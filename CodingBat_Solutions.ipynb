{
 "cells": [
  {
   "cell_type": "markdown",
   "id": "60571df9-3fc1-4271-9cad-1b84c0b56c64",
   "metadata": {},
   "source": [
    "# Hi ! This is Aditya and Hereby I provide the solutions for CodingBat as part of me learning python language "
   ]
  },
  {
   "cell_type": "markdown",
   "id": "7f2319c2-54dc-4079-a256-f59853aa63f5",
   "metadata": {},
   "source": [
    "# Warmup - 1 - > Sleep_in"
   ]
  },
  {
   "cell_type": "markdown",
   "id": "012a48b5-2919-4d16-a1f2-100fcfb2524b",
   "metadata": {},
   "source": [
    "### Question : The parameter weekday is True if it is a weekday, and the parameter vacation is True if we are on vacation. We sleep in if it is not a weekday or we're on vacation. Return True if we sleep in."
   ]
  },
  {
   "cell_type": "code",
   "execution_count": 2,
   "id": "2e472cc3-77eb-460a-8fcd-b3d624954347",
   "metadata": {},
   "outputs": [],
   "source": [
    "# Code\n",
    "def sleep_in(weekday, vacation):\n",
    "  return (not weekday) or (vacation)"
   ]
  },
  {
   "cell_type": "markdown",
   "id": "588085ba-b6f2-422a-a7f9-336d5d980328",
   "metadata": {},
   "source": [
    "# Warmup-1 > monkey_trouble\n",
    "\n",
    "### We have two monkeys, a and b, and the parameters a_smile and b_smile indicate if each is smiling. We are in trouble if they are both smiling or if neither of them is smiling. Return True if we are in trouble.\n"
   ]
  },
  {
   "cell_type": "code",
   "execution_count": 3,
   "id": "a2dfcf31-ba27-415f-86f8-fbb827f228f6",
   "metadata": {},
   "outputs": [],
   "source": [
    "def monkey_trouble(a_smile, b_smile):\n",
    "  return a_smile==b_smile"
   ]
  },
  {
   "cell_type": "markdown",
   "id": "a364e5cf-55c3-46ed-8e70-94b8800209ef",
   "metadata": {},
   "source": [
    "# Warmup-1 > sum_double\n",
    "\n",
    "### Given two int values, return their sum. Unless the two values are the same, then return double their sum."
   ]
  },
  {
   "cell_type": "code",
   "execution_count": 4,
   "id": "4bb8a04f-fe10-47b4-a034-2a32ac52b790",
   "metadata": {},
   "outputs": [],
   "source": [
    "def sum_double(a, b):\n",
    "  return 2*(a+b) if a==b else a+b"
   ]
  },
  {
   "cell_type": "markdown",
   "id": "26fa51f0-eb59-4b3b-a3f3-90ce3299cede",
   "metadata": {},
   "source": [
    "# Warmup-1 > diff21\n",
    "\n",
    "### Given an int n, return the absolute difference between n and 21, except return double the absolute difference if n is over 21."
   ]
  },
  {
   "cell_type": "code",
   "execution_count": 5,
   "id": "1356651b-0309-4db6-ae02-6d5c465322d1",
   "metadata": {},
   "outputs": [],
   "source": [
    "def diff21(n):\n",
    "  return abs(n-21)*2 if n>21 else abs(n-21) "
   ]
  },
  {
   "cell_type": "markdown",
   "id": "893f97e8-28b6-4004-8bee-7d69b2fb53f7",
   "metadata": {},
   "source": [
    "# Warmup-1 > parrot_trouble\n",
    "\n",
    "### We have a loud talking parrot. The \"hour\" parameter is the current hour time in the range 0..23. We are in trouble if the parrot is talking and the hour is before 7 or after 20. Return True if we are in trouble."
   ]
  },
  {
   "cell_type": "code",
   "execution_count": 6,
   "id": "772a5155-f2f8-4f65-a34d-43f71bd0567d",
   "metadata": {},
   "outputs": [],
   "source": [
    "def parrot_trouble(talking, hour):\n",
    "  return (talking and (hour < 7 or hour > 20))"
   ]
  },
  {
   "cell_type": "markdown",
   "id": "a8bbe2a8-031c-487d-889a-930254be3fff",
   "metadata": {},
   "source": [
    "# Warmup-1 > makes10\n",
    "### Given 2 ints, a and b, return True if one if them is 10 or if their sum is 10."
   ]
  },
  {
   "cell_type": "code",
   "execution_count": 8,
   "id": "91a82b02-5018-48c5-ad42-f1b8ea6585ef",
   "metadata": {},
   "outputs": [],
   "source": [
    "def makes10(a, b):\n",
    "  return (a == 10 or b == 10 or a+b == 10) "
   ]
  },
  {
   "cell_type": "markdown",
   "id": "619bd88a-d39c-4ad2-be5e-4311b3b9f006",
   "metadata": {},
   "source": [
    "# Warmup-1 > near_hundred\n",
    "\n",
    "### Given an int n, return True if it is within 10 of 100 or 200. Note: abs(num) computes the absolute value of a number.\n"
   ]
  },
  {
   "cell_type": "code",
   "execution_count": 9,
   "id": "c4b09080-1d54-41b0-8112-3a2d93dcc413",
   "metadata": {},
   "outputs": [],
   "source": [
    "def near_hundred(n):\n",
    "  return (abs(n-100) <=10 ) or (abs(n-200) <=10 )"
   ]
  },
  {
   "cell_type": "markdown",
   "id": "08e8784b-3704-4df1-b82e-3642baf1f17e",
   "metadata": {},
   "source": [
    "# Warmup-1 > pos_neg\n",
    "\n",
    "### Given 2 int values, return True if one is negative and one is positive. Except if the parameter \"negative\" is True, then return True only if both are negative."
   ]
  },
  {
   "cell_type": "code",
   "execution_count": 10,
   "id": "96ebbde7-f520-497d-9367-c704267dc833",
   "metadata": {},
   "outputs": [],
   "source": [
    "def pos_neg(a, b, negative):\n",
    "  if negative:\n",
    "    if a<0 and b<0:\n",
    "      return True\n",
    "    else:\n",
    "      return False\n",
    "  elif (a<0 and b>0) or (a>0 and b<0):\n",
    "    return True\n",
    "  else:\n",
    "    return False\n"
   ]
  },
  {
   "cell_type": "markdown",
   "id": "cf111dc4-789c-4e37-bc8d-b634342766ff",
   "metadata": {},
   "source": [
    "# Warmup-1 > not_string\n",
    "\n",
    "### Given a string, return a new string where \"not \" has been added to the front. However, if the string already begins with \"not\", return the string unchanged."
   ]
  },
  {
   "cell_type": "code",
   "execution_count": 11,
   "id": "0e3c57b4-26c9-44f7-afc3-f93bd6a85649",
   "metadata": {},
   "outputs": [],
   "source": [
    "def not_string(str):\n",
    "  return \"not \"+str if not str.startswith(\"not\") else str"
   ]
  },
  {
   "cell_type": "markdown",
   "id": "7026bc64-315d-477e-b74a-0d352f8a5950",
   "metadata": {},
   "source": [
    "# Warmup-1 > missing_char\n",
    "\n",
    "### Given a non-empty string and an int n, return a new string where the char at index n has been removed. The value of n will be a valid index of a char in the original string (i.e. n will be in the range 0..len(str)-1 inclusive)."
   ]
  },
  {
   "cell_type": "code",
   "execution_count": 12,
   "id": "e2fe17cc-2279-4b28-b003-5f795a8e355f",
   "metadata": {},
   "outputs": [],
   "source": [
    "def missing_char(str, n):\n",
    "  return str.replace(str[n],\"\") "
   ]
  },
  {
   "cell_type": "markdown",
   "id": "6b6da601-a086-4b43-8d0b-0e4acd1dbf2a",
   "metadata": {},
   "source": [
    "# Warmup-1 > front_back\n",
    "\n",
    "### Given a string, return a new string where the first and last chars have been exchanged."
   ]
  },
  {
   "cell_type": "code",
   "execution_count": 13,
   "id": "31ddf4c3-604b-4439-a91e-3e26efe7bdce",
   "metadata": {},
   "outputs": [],
   "source": [
    "def front_back(str):\n",
    "  return str[-1] + str[1:-1] + str[0] if len(str) >1 else str"
   ]
  },
  {
   "cell_type": "markdown",
   "id": "b3f485e5-3057-45bd-a6be-c7fadff04caa",
   "metadata": {},
   "source": [
    "# Warmup-1 > front3\n",
    "\n",
    "### Given a string, we'll say that the front is the first 3 chars of the string. If the string length is less than 3, the front is whatever is there. Return a new string which is 3 copies of the front."
   ]
  },
  {
   "cell_type": "code",
   "execution_count": 15,
   "id": "fc7546f6-ad21-4a5e-9e1e-c3fac065f0e8",
   "metadata": {},
   "outputs": [],
   "source": [
    "def front3(str):\n",
    "  return str if str == \"\" else str[:3]*3"
   ]
  },
  {
   "cell_type": "markdown",
   "id": "0d4603d9-ad99-425c-8111-9b69654f9e17",
   "metadata": {},
   "source": [
    "# Warmup-2 > string_times\n",
    "\n",
    "# Given a string and a non-negative int n, return a larger string that is n copies of the original string."
   ]
  },
  {
   "cell_type": "code",
   "execution_count": 16,
   "id": "b9064175-707e-4c93-b587-511902e10a6d",
   "metadata": {},
   "outputs": [],
   "source": [
    "def string_times(str, n):\n",
    "  return str*n"
   ]
  },
  {
   "cell_type": "markdown",
   "id": "67556ce9-374e-4eef-bb8d-7c329a5ce6d4",
   "metadata": {},
   "source": [
    "# Warmup-2 > front_times\n",
    "\n",
    "### Given a string and a non-negative int n, we'll say that the front of the string is the first 3 chars, or whatever is there if the string is less than length 3. Return n copies of the front;"
   ]
  },
  {
   "cell_type": "code",
   "execution_count": 18,
   "id": "447464d0-d74e-4163-8424-d0c7a60ad60a",
   "metadata": {},
   "outputs": [],
   "source": [
    "def front_times(str, n):\n",
    "  return str[:3]*n"
   ]
  },
  {
   "cell_type": "markdown",
   "id": "a69af08d-e8f5-4b9b-92e7-9b9390b62414",
   "metadata": {},
   "source": [
    "# Warmup-2 > string_bits\n",
    "\n",
    "### Given a string, return a new string made of every other char starting with the first, so \"Hello\" yields \"Hlo\"."
   ]
  },
  {
   "cell_type": "code",
   "execution_count": 19,
   "id": "4c873850-fa01-4cb1-ae1d-3e9b28b4f4ab",
   "metadata": {},
   "outputs": [],
   "source": [
    "def string_bits(str):\n",
    "  return str[::2]"
   ]
  },
  {
   "cell_type": "markdown",
   "id": "a5f4a76b-e17c-4250-8582-cf2de3abf32b",
   "metadata": {},
   "source": [
    "# Warmup-2 > string_splosion\n",
    "\n",
    "### Given a non-empty string like \"Code\" return a string like \"CCoCodCode\"."
   ]
  },
  {
   "cell_type": "code",
   "execution_count": 20,
   "id": "0a513743-51b4-4c7c-af0d-b3ea06ab76ca",
   "metadata": {},
   "outputs": [],
   "source": [
    "def string_splosion(str):\n",
    "  ans_string = \"\"\n",
    "  i=0\n",
    "  while(i<=len(str)):\n",
    "    ans_string += str[:i]\n",
    "    i += 1\n",
    "  return ans_string"
   ]
  },
  {
   "cell_type": "markdown",
   "id": "7917378b-12a4-4bca-a9f6-3f05b1c283e4",
   "metadata": {},
   "source": [
    "# Warmup-2 > last2\n",
    "\n",
    "### Given a string, return the count of the number of times that a substring length 2 appears in the string and also as the last 2 chars of the string, so \"hixxxhi\" yields 1 (we won't count the end substring)."
   ]
  },
  {
   "cell_type": "code",
   "execution_count": 21,
   "id": "485a6c13-c0fe-4b73-a827-3eb60df6aee4",
   "metadata": {},
   "outputs": [],
   "source": [
    "def last2(str):\n",
    "  if len(str) <=2:\n",
    "    return 0\n",
    "  else:\n",
    "    ending_2_characters = str[-2:]\n",
    "    count = 0\n",
    "    for i in range(len(str)-2):\n",
    "      if ending_2_characters == str[i]+str[i+1]:\n",
    "        count += 1\n",
    "    return count"
   ]
  },
  {
   "cell_type": "markdown",
   "id": "ceb6f1b5-5798-43d5-b0e5-32fb3ad9dafe",
   "metadata": {},
   "source": [
    "# Warmup-2 > array_count9\n",
    "\n",
    "### Given an array of ints, return the number of 9's in the array."
   ]
  },
  {
   "cell_type": "code",
   "execution_count": 22,
   "id": "d9a3699b-154b-4a13-a00c-e72868bfcaf7",
   "metadata": {},
   "outputs": [],
   "source": [
    "def array_count9(nums):\n",
    "  count = 0\n",
    "  for i in nums:\n",
    "    if i==9:\n",
    "      count += 1\n",
    "  return count\n"
   ]
  },
  {
   "cell_type": "markdown",
   "id": "717e7f36-ea74-4522-80df-ae6ac8f923f0",
   "metadata": {},
   "source": [
    "# Warmup-2 > array_front9\n",
    "\n",
    "### Given an array of ints, return True if one of the first 4 elements in the array is a 9. The array length may be less than 4."
   ]
  },
  {
   "cell_type": "code",
   "execution_count": 23,
   "id": "c31069eb-50a4-4d0e-a240-167307894869",
   "metadata": {},
   "outputs": [],
   "source": [
    "def array_front9(nums):\n",
    "  return 9 in nums[:4]"
   ]
  },
  {
   "cell_type": "markdown",
   "id": "06a7a06e-8407-4aca-8813-b7b1e86f5efc",
   "metadata": {},
   "source": [
    "# Warmup-2 > array123\n",
    "\n",
    "### Given an array of ints, return True if the sequence of numbers 1, 2, 3 appears in the array somewhere."
   ]
  },
  {
   "cell_type": "code",
   "execution_count": 24,
   "id": "2cf01d29-fe29-431a-a824-017971ddfbdd",
   "metadata": {},
   "outputs": [],
   "source": [
    "def array123(nums):\n",
    "  for i in range(len(nums)-2):\n",
    "    if nums[i]==1 and nums[i+1] == 2 and nums[i+2] ==3:\n",
    "      return True\n",
    "      break;\n",
    "    \n",
    "  return False"
   ]
  },
  {
   "cell_type": "markdown",
   "id": "3a869aaf-d5a5-4558-b156-500a988acbba",
   "metadata": {},
   "source": [
    "# Warmup-2 > string_match\n",
    "\n",
    "### Given 2 strings, a and b, return the number of the positions where they contain the same length 2 substring. So \"xxcaazz\" and \"xxbaaz\" yields 3, since the \"xx\", \"aa\", and \"az\" substrings appear in the same place in both strings."
   ]
  },
  {
   "cell_type": "code",
   "execution_count": 25,
   "id": "281aa366-d352-4d73-878d-faa33a4ffb49",
   "metadata": {},
   "outputs": [],
   "source": [
    "def string_match(a, b):\n",
    "  count = 0\n",
    "  \n",
    "  if len(a) <=1 or len(b)<=1:\n",
    "    return count\n",
    "  \n",
    "  for i in range(min(len(a),len(b))-1):\n",
    "    if a[i:i+2] == b[i:i+2]  :\n",
    "      count += 1\n",
    "\n",
    "  return count"
   ]
  },
  {
   "cell_type": "markdown",
   "id": "ee303034-86b8-47a3-9095-3dfcb6be0abe",
   "metadata": {},
   "source": [
    "# String-1 > hello_name\n",
    "\n",
    "### Given a string name, e.g. \"Bob\", return a greeting of the form \"Hello Bob!\"."
   ]
  },
  {
   "cell_type": "code",
   "execution_count": 26,
   "id": "f7aaa1d7-40a2-4aa2-8a6c-dfb6c5fb0d10",
   "metadata": {},
   "outputs": [],
   "source": [
    "def hello_name(name):\n",
    "  return \"Hello \" + name + \"!\""
   ]
  },
  {
   "cell_type": "markdown",
   "id": "3dcfbf0a-f354-40fe-86df-d069a386ca5c",
   "metadata": {},
   "source": [
    "# String-1 > make_abba\n",
    "\n",
    "### Given two strings, a and b, return the result of putting them together in the order abba, e.g. \"Hi\" and \"Bye\" returns \"HiByeByeHi\"."
   ]
  },
  {
   "cell_type": "code",
   "execution_count": 27,
   "id": "f1b79ebb-caa4-46a6-939a-818304bf754e",
   "metadata": {},
   "outputs": [],
   "source": [
    "def make_abba(a, b):\n",
    "  return a+b+b+a"
   ]
  },
  {
   "cell_type": "markdown",
   "id": "5c833f3a-b9cf-447c-a4be-98455b556bda",
   "metadata": {},
   "source": [
    "# String-1 > make_tags\n",
    "\n",
    "### The web is built with HTML strings like \"<i>Yay</i>\" which draws Yay as italic text. In this example, the \"i\" tag makes <i> and </i> which surround the word \"Yay\". Given tag and word strings, create the HTML string with tags around the word, e.g. \"<i>Yay</i>\"."
   ]
  },
  {
   "cell_type": "code",
   "execution_count": 28,
   "id": "e4925a19-c31e-41a5-8e1e-c48174fd3437",
   "metadata": {},
   "outputs": [],
   "source": [
    "def make_tags(tag, word):\n",
    "  return \"<{0}>{1}</{0}>\".format(tag, word)"
   ]
  },
  {
   "cell_type": "markdown",
   "id": "43cb26a1-b69b-4ef2-9e89-2d77cb8d5940",
   "metadata": {},
   "source": [
    "# String-1 > make_out_word\n",
    "\n",
    "### Given an \"out\" string length 4, such as \"<<>>\", and a word, return a new string where the word is in the middle of the out string, e.g. \"<<word>>\".\n",
    "\n"
   ]
  },
  {
   "cell_type": "code",
   "execution_count": 29,
   "id": "3ab53ec5-819f-4161-a1e4-70ad1ace229b",
   "metadata": {},
   "outputs": [],
   "source": [
    "def make_out_word(out, word):\n",
    "  return out[:2] + word + out[2:]"
   ]
  },
  {
   "cell_type": "markdown",
   "id": "b5478509-85e3-4acc-8305-17fdc655ed0a",
   "metadata": {},
   "source": [
    "# String-1 > extra_end\n",
    "\n",
    "### Given a string, return a new string made of 3 copies of the last 2 chars of the original string. The string length will be at least 2.\n",
    "\n"
   ]
  },
  {
   "cell_type": "code",
   "execution_count": 30,
   "id": "b0ec10d1-f6a6-4e18-8f82-3f50ede7d7bb",
   "metadata": {},
   "outputs": [],
   "source": [
    "def extra_end(str):\n",
    "  return str[-2:]*3\n"
   ]
  },
  {
   "cell_type": "markdown",
   "id": "830f2f93-3c12-4a34-bbf8-e0cb9fa16afb",
   "metadata": {},
   "source": [
    "# String-1 > first_two\n",
    "\n",
    "### Given a string, return the string made of its first two chars, so the String \"Hello\" yields \"He\". If the string is shorter than length 2, return whatever there is, so \"X\" yields \"X\", and the empty string \"\" yields the empty string \"\"."
   ]
  },
  {
   "cell_type": "code",
   "execution_count": 31,
   "id": "b9d1a8b8-9cc8-4492-8849-329e31b96266",
   "metadata": {},
   "outputs": [],
   "source": [
    "def first_two(str):\n",
    "  return str[:2]"
   ]
  },
  {
   "cell_type": "markdown",
   "id": "db079a25-e737-40da-8dfa-24c4d88f81f2",
   "metadata": {},
   "source": [
    "# String-1 > first_half\n",
    "\n",
    "### Given a string of even length, return the first half. So the string \"WooHoo\" yields \"Woo\"."
   ]
  },
  {
   "cell_type": "code",
   "execution_count": 32,
   "id": "ae56b395-b0c6-4be5-810f-611a884889f6",
   "metadata": {},
   "outputs": [],
   "source": [
    "def first_half(str):\n",
    "  return str[:len(str)/2]"
   ]
  },
  {
   "cell_type": "markdown",
   "id": "91166e9e-eb9b-4e41-b095-de2a7ff427be",
   "metadata": {},
   "source": [
    "# String-1 > without_end\n",
    "\n",
    "### Given a string, return a version without the first and last char, so \"Hello\" yields \"ell\". The string length will be at least 2."
   ]
  },
  {
   "cell_type": "code",
   "execution_count": 33,
   "id": "45c5b716-2bb2-4f2a-9a0f-8dff9e2ee508",
   "metadata": {},
   "outputs": [],
   "source": [
    "def without_end(str):\n",
    "  return str[1:-1]"
   ]
  },
  {
   "cell_type": "markdown",
   "id": "b08b1f32-1cbb-4b73-a3c6-4ceb8bb8eb48",
   "metadata": {},
   "source": [
    "# String-1 > combo_string\n",
    "\n",
    "### Given 2 strings, a and b, return a string of the form short+long+short, with the shorter string on the outside and the longer string on the inside. The strings will not be the same length, but they may be empty (length 0).\n",
    "\n"
   ]
  },
  {
   "cell_type": "code",
   "execution_count": 34,
   "id": "e8be07af-8db8-446d-a837-252ab98e028f",
   "metadata": {},
   "outputs": [],
   "source": [
    "def combo_string(a, b):\n",
    "  return a+b+a if len(a)<len(b) else b+a+b"
   ]
  },
  {
   "cell_type": "markdown",
   "id": "5353d347-1f41-4ad0-b8ce-8ce5f80bf0e2",
   "metadata": {},
   "source": [
    "# String-1 > non_start\n",
    "\n",
    "### Given 2 strings, return their concatenation, except omit the first char of each. The strings will be at least length 1."
   ]
  },
  {
   "cell_type": "code",
   "execution_count": 35,
   "id": "be98fbe2-1dc3-4424-ad54-08bfa6bf5134",
   "metadata": {},
   "outputs": [],
   "source": [
    "def non_start(a, b):\n",
    "  return a[1:]+b[1:]"
   ]
  },
  {
   "cell_type": "markdown",
   "id": "f79db16e-3ead-4aae-9e63-112087546ff4",
   "metadata": {},
   "source": [
    "# String-1 > left2\n",
    "### Given a string, return a \"rotated left 2\" version where the first 2 chars are moved to the end. The string length will be at least 2."
   ]
  },
  {
   "cell_type": "code",
   "execution_count": 36,
   "id": "5b80b5d5-8b04-4bff-86ca-49a31eb467bf",
   "metadata": {},
   "outputs": [],
   "source": [
    "def left2(str):\n",
    "  return str if len(str)<=2 else str[2:]+str[:2]"
   ]
  },
  {
   "cell_type": "markdown",
   "id": "3cca41e6-7269-48e8-8365-8e1fa5700905",
   "metadata": {},
   "source": [
    "# List-1 > first_last6\n",
    "\n",
    "### Given an array of ints, return True if 6 appears as either the first or last element in the array. The array will be length 1 or more."
   ]
  },
  {
   "cell_type": "code",
   "execution_count": 37,
   "id": "09213dee-1f3e-4e82-bff0-84b60acd7c36",
   "metadata": {},
   "outputs": [],
   "source": [
    "def first_last6(nums):\n",
    "  return True if nums[0] == 6 or nums[-1] == 6 else False"
   ]
  },
  {
   "cell_type": "markdown",
   "id": "f8caa19c-013f-4e80-a5ae-07784d4b67c2",
   "metadata": {},
   "source": [
    "# List-1 > same_first_last\n",
    "\n",
    "### Given an array of ints, return True if the array is length 1 or more, and the first element and the last element are equal."
   ]
  },
  {
   "cell_type": "code",
   "execution_count": 38,
   "id": "fe716226-4de7-43df-be51-95f7a549c5e1",
   "metadata": {},
   "outputs": [],
   "source": [
    "def same_first_last(nums):\n",
    "  return True if len(nums) > 0 and nums[0]==nums[-1] else False"
   ]
  },
  {
   "cell_type": "markdown",
   "id": "8b418782-b7e9-4d7b-96ae-56cf45ea264e",
   "metadata": {},
   "source": [
    "# List-1 > make_pi\n",
    "\n",
    "### Return an int array length 3 containing the first 3 digits of pi, {3, 1, 4}."
   ]
  },
  {
   "cell_type": "code",
   "execution_count": 39,
   "id": "58de5fba-66e6-4f22-9ac1-9474275039f6",
   "metadata": {},
   "outputs": [],
   "source": [
    "def make_pi():\n",
    "  return [3,1,4]"
   ]
  },
  {
   "cell_type": "markdown",
   "id": "95c94802-99d7-4cbb-a11d-043e906b8d87",
   "metadata": {},
   "source": [
    "# List-1 > common_end\n",
    "\n",
    "### Given 2 arrays of ints, a and b, return True if they have the same first element or they have the same last element. Both arrays will be length 1 or more."
   ]
  },
  {
   "cell_type": "code",
   "execution_count": 40,
   "id": "5b40a58a-b71d-4d1a-ac6b-2efdb088ceef",
   "metadata": {},
   "outputs": [],
   "source": [
    "def common_end(a, b):\n",
    "  return a[0] == b[0] if len(a) == 1 or len(b) == 1 else (a[0] == b[0])or(a[-1] == b[-1])"
   ]
  },
  {
   "cell_type": "markdown",
   "id": "62ae4854-cc54-424c-8d8a-9a6c5c8e6269",
   "metadata": {},
   "source": [
    "# List-1 > sum3\n",
    "\n",
    "### Given an array of ints length 3, return the sum of all the elements.\n",
    "\n"
   ]
  },
  {
   "cell_type": "code",
   "execution_count": 41,
   "id": "4f8ce7b9-d881-432d-a08c-ec13fae9a67d",
   "metadata": {},
   "outputs": [],
   "source": [
    "def sum3(nums):\n",
    "  return nums[0]+nums[1]+nums[2]"
   ]
  },
  {
   "cell_type": "markdown",
   "id": "6676f66f-edd2-4a67-bc46-9231e2b69b9a",
   "metadata": {},
   "source": [
    "# List-1 > rotate_left3\n",
    "\n",
    "### Given an array of ints length 3, return an array with the elements \"rotated left\" so {1, 2, 3} yields {2, 3, 1}.\n",
    "\n"
   ]
  },
  {
   "cell_type": "code",
   "execution_count": 42,
   "id": "7369cfd4-71e4-4b07-a2ed-e37ad4a01e6b",
   "metadata": {},
   "outputs": [],
   "source": [
    "def rotate_left3(nums):\n",
    "  return nums[1:]+nums[:1]"
   ]
  },
  {
   "cell_type": "markdown",
   "id": "1ee1a7d7-b3b2-454c-ba2a-95298ee02885",
   "metadata": {},
   "source": [
    "# List-1 > reverse3\n",
    "\n",
    "### Given an array of ints length 3, return a new array with the elements in reverse order, so {1, 2, 3} becomes {3, 2, 1}."
   ]
  },
  {
   "cell_type": "code",
   "execution_count": 43,
   "id": "512d65ec-4842-403e-bfb4-2fd7d7ce498d",
   "metadata": {},
   "outputs": [],
   "source": [
    "def reverse3(nums):\n",
    "  return nums[::-1]"
   ]
  },
  {
   "cell_type": "markdown",
   "id": "6b2108a9-22d8-4ec3-a50d-d812d96fbcd1",
   "metadata": {},
   "source": [
    "# List-1 > max_end3\n",
    "\n",
    "### Given an array of ints length 3, figure out which is larger, the first or last element in the array, and set all the other elements to be that value. Return the changed array.\n",
    "\n"
   ]
  },
  {
   "cell_type": "code",
   "execution_count": 44,
   "id": "bcef63d5-9e0b-49c2-a131-4d1f7ba10885",
   "metadata": {},
   "outputs": [],
   "source": [
    "def max_end3(nums):\n",
    "  return [max(nums[0],nums[-1])]*3\n"
   ]
  },
  {
   "cell_type": "markdown",
   "id": "3dc59f5b-bb1b-433a-a9ea-98588c8ccfe6",
   "metadata": {},
   "source": [
    "# List-1 > sum2\n",
    "\n",
    "### Given an array of ints, return the sum of the first 2 elements in the array. If the array length is less than 2, just sum up the elements that exist, returning 0 if the array is length 0."
   ]
  },
  {
   "cell_type": "code",
   "execution_count": 45,
   "id": "b3d87890-a27a-476d-a065-f8d5d85845f2",
   "metadata": {},
   "outputs": [],
   "source": [
    "def sum2(nums):\n",
    "  return sum(nums[:2])"
   ]
  },
  {
   "cell_type": "markdown",
   "id": "8bdad590-6f58-4133-9f6b-a064357ea005",
   "metadata": {},
   "source": [
    "# List-1 > middle_way\n",
    "\n",
    "### Given 2 int arrays, a and b, each length 3, return a new array length 2 containing their middle elements.\n",
    "\n"
   ]
  },
  {
   "cell_type": "code",
   "execution_count": 46,
   "id": "c778eed8-8616-49a3-8051-034217426196",
   "metadata": {},
   "outputs": [],
   "source": [
    "def middle_way(a, b):\n",
    "  return [a[1],b[1]]"
   ]
  },
  {
   "cell_type": "markdown",
   "id": "48fa70bd-6195-48e0-a45d-fdabe710a460",
   "metadata": {},
   "source": [
    "# List-1 > make_ends\n",
    "\n",
    "### Given an array of ints, return a new array length 2 containing the first and last elements from the original array. The original array will be length 1 or more."
   ]
  },
  {
   "cell_type": "code",
   "execution_count": 47,
   "id": "fe3eb923-ee04-4ee4-be56-f3e9df28d441",
   "metadata": {},
   "outputs": [],
   "source": [
    "def make_ends(nums):\n",
    "  return [nums[0],nums[-1]]"
   ]
  },
  {
   "cell_type": "markdown",
   "id": "4adf8d0a-452a-4540-9f97-277d79580b35",
   "metadata": {},
   "source": [
    "# List-1 > has23\n",
    "\n",
    "### Given an int array length 2, return True if it contains a 2 or a 3."
   ]
  },
  {
   "cell_type": "code",
   "execution_count": 48,
   "id": "3aa5e1be-26c4-42b5-a1e8-4542aaa4ed6d",
   "metadata": {},
   "outputs": [],
   "source": [
    "def has23(nums):\n",
    "  return (2 in nums) or (3 in nums)"
   ]
  },
  {
   "cell_type": "markdown",
   "id": "28e8b41a-0cd0-4e9b-88a4-eccafec1e7ac",
   "metadata": {},
   "source": [
    "# List-2 > count_evens\n",
    "\n",
    "### Return the number of even ints in the given array. Note: the % \"mod\" operator computes the remainder, e.g. 5 % 2 is 1.\n",
    "\n"
   ]
  },
  {
   "cell_type": "code",
   "execution_count": 49,
   "id": "c738b2c0-6ae1-497d-b42f-23e59a346c18",
   "metadata": {},
   "outputs": [],
   "source": [
    "def count_evens(nums):\n",
    "  count = 0\n",
    "  for i in nums:\n",
    "    if i%2==0:\n",
    "      count += 1\n",
    "  \n",
    "  return count\n",
    "\n",
    "\n",
    "# or\n",
    "\n",
    "def count_evens(nums):\n",
    "  return sum(1 for num in nums if num % 2 == 0)"
   ]
  },
  {
   "cell_type": "markdown",
   "id": "081c8304-7acf-49f2-82f6-75b860db86a3",
   "metadata": {},
   "source": [
    "# List-2 > big_diff\n",
    "\n",
    "### Given an array length 1 or more of ints, return the difference between the largest and smallest values in the array. Note: the built-in min(v1, v2) and max(v1, v2) functions return the smaller or larger of two values.\n",
    "\n"
   ]
  },
  {
   "cell_type": "code",
   "execution_count": 50,
   "id": "ac756b4b-08a2-4884-b65b-5977591dad42",
   "metadata": {},
   "outputs": [],
   "source": [
    "def big_diff(nums):\n",
    "  return max(nums)-min(nums) "
   ]
  },
  {
   "cell_type": "markdown",
   "id": "449bd2b0-3438-4c5e-96d3-9fada3f0ec93",
   "metadata": {},
   "source": [
    "# List-2 > centered_average\n",
    "\n",
    "### Return the \"centered\" average of an array of ints, which we'll say is the mean average of the values, except ignoring the largest and smallest values in the array. If there are multiple copies of the smallest value, ignore just one copy, and likewise for the largest value. Use int division to produce the final average. You may assume that the array is length 3 or more."
   ]
  },
  {
   "cell_type": "code",
   "execution_count": 51,
   "id": "3cbced9a-605a-40ad-a47d-2c263a6f3a20",
   "metadata": {},
   "outputs": [],
   "source": [
    "def centered_average(nums):\n",
    "  return sum(sorted(nums)[1:-1]) // (len(nums) - 2)"
   ]
  },
  {
   "cell_type": "markdown",
   "id": "be380692-2f1e-4de1-ade6-98ee3692128f",
   "metadata": {},
   "source": [
    "# List-2 > sum13\n",
    "\n",
    "### Return the sum of the numbers in the array, returning 0 for an empty array. Except the number 13 is very unlucky, so it does not count and numbers that come immediately after a 13 also do not count."
   ]
  },
  {
   "cell_type": "code",
   "execution_count": 52,
   "id": "3f423a8d-0890-492c-baca-1db20bda2059",
   "metadata": {},
   "outputs": [],
   "source": [
    "def sum13(nums):\n",
    "    total_sum = 0\n",
    "    i = 0\n",
    "    while i < len(nums):\n",
    "        if nums[i] == 13:\n",
    "            i += 2\n",
    "        else:\n",
    "            total_sum += nums[i]\n",
    "            i += 1\n",
    "    return total_sum"
   ]
  },
  {
   "cell_type": "markdown",
   "id": "f7b97c26-2843-4ebc-a478-acda00b5f3ba",
   "metadata": {},
   "source": [
    "# List-2 > sum67\n",
    "\n",
    "#### Return the sum of the numbers in the array, except ignore sections of numbers starting with a 6 and extending to the next 7 (every 6 will be followed by at least one 7). Return 0 for no numbers."
   ]
  },
  {
   "cell_type": "code",
   "execution_count": 53,
   "id": "b3db4ab8-5f89-4835-9b22-3ba1c2ae785a",
   "metadata": {},
   "outputs": [],
   "source": [
    "def sum67(nums):\n",
    "  flag = False\n",
    "  sum = 0\n",
    "  for n in nums:\n",
    "    if n==6:\n",
    "      flag = True\n",
    "    elif n==7 and flag:\n",
    "      flag = False\n",
    "    elif not flag:\n",
    "      sum += n\n",
    "  return sum\n",
    "  "
   ]
  },
  {
   "cell_type": "markdown",
   "id": "d7e07ccc-6883-4b9d-a775-ab561729b614",
   "metadata": {},
   "source": [
    "# List-2 > has22\n",
    "\n",
    "### Given an array of ints, return True if the array contains a 2 next to a 2 somewhere."
   ]
  },
  {
   "cell_type": "code",
   "execution_count": 54,
   "id": "3bd4460a-2852-47a8-8fcd-95e5f19ea8b4",
   "metadata": {},
   "outputs": [],
   "source": [
    "def has22(nums):\n",
    "  for n in range(len(nums)-1):\n",
    "    if nums[n] == 2 and nums[n+1] == 2:\n",
    "      return True\n",
    "  return False"
   ]
  },
  {
   "cell_type": "markdown",
   "id": "4fa020c5-78a0-4013-a556-55c1336f3df6",
   "metadata": {},
   "source": [
    "# String-2 > double_char\n",
    "\n",
    "### Given a string, return a string where for every char in the original, there are two chars."
   ]
  },
  {
   "cell_type": "code",
   "execution_count": 55,
   "id": "2db72d1e-c199-4abf-808e-52c68a25d9a1",
   "metadata": {},
   "outputs": [],
   "source": [
    "def double_char(str):\n",
    "  new_string = \"\"\n",
    "  for i in str:\n",
    "    new_string += i*2\n",
    "  return new_string\n"
   ]
  },
  {
   "cell_type": "markdown",
   "id": "5790a7bd-c7c9-43c7-9fde-bdc73a62ccd9",
   "metadata": {},
   "source": [
    "# String-2 > count_hi\n",
    "\n",
    "### Return the number of times that the string \"hi\" appears anywhere in the given string."
   ]
  },
  {
   "cell_type": "code",
   "execution_count": 56,
   "id": "75c6a23f-067b-4b9f-bf51-b6ff9bcd579f",
   "metadata": {},
   "outputs": [],
   "source": [
    "def count_hi(str):\n",
    "  return str.count(\"hi\")"
   ]
  },
  {
   "cell_type": "markdown",
   "id": "b9e0b1cf-c5f4-4608-8786-8b2dcda3466b",
   "metadata": {},
   "source": [
    "# String-2 > cat_dog\n",
    "\n",
    "### Return True if the string \"cat\" and \"dog\" appear the same number of times in the given string."
   ]
  },
  {
   "cell_type": "code",
   "execution_count": 57,
   "id": "5acf9522-6320-41cb-a13d-a29e788ed3d9",
   "metadata": {},
   "outputs": [],
   "source": [
    "def cat_dog(str):\n",
    "  return str.count('cat') == str.count('dog')\n"
   ]
  },
  {
   "cell_type": "markdown",
   "id": "5f249db0-54d1-4839-aef2-f604eeaaf067",
   "metadata": {},
   "source": [
    "# String-2 > count_code\n",
    "\n",
    "### Return the number of times that the string \"code\" appears anywhere in the given string, except we'll accept any letter for the 'd', so \"cope\" and \"cooe\" count.\n",
    "\n"
   ]
  },
  {
   "cell_type": "code",
   "execution_count": 58,
   "id": "82ee2daa-6027-47ad-8337-f104a51860b3",
   "metadata": {},
   "outputs": [],
   "source": [
    "def count_code(str):\n",
    "  count = 0\n",
    "  i=0\n",
    "  while(i<len(str)-3):\n",
    "    if str[i:i+2]=='co' and str[i+3] == 'e':\n",
    "      count += 1\n",
    "    i += 1\n",
    "  \n",
    "  return count"
   ]
  },
  {
   "cell_type": "markdown",
   "id": "cc7adac7-0223-4fa7-8aac-54ae298929af",
   "metadata": {},
   "source": [
    "# String-2 > end_other\n",
    "\n",
    "### Given two strings, return True if either of the strings appears at the very end of the other string, ignoring upper/lower case differences (in other words, the computation should not be \"case sensitive\"). Note: s.lower() returns the lowercase version of a string."
   ]
  },
  {
   "cell_type": "code",
   "execution_count": 59,
   "id": "42ceefd9-42dd-4be6-86f2-716fac8425b2",
   "metadata": {},
   "outputs": [],
   "source": [
    "def end_other(a, b):\n",
    "  a = a.lower()\n",
    "  b = b.lower()\n",
    "  return a.endswith(b) or b.endswith(a)\n"
   ]
  },
  {
   "cell_type": "markdown",
   "id": "0557948a-0aef-49d5-8c8b-c7e701c437af",
   "metadata": {},
   "source": [
    "# String-2 > xyz_there\n",
    "\n",
    "### Return True if the given string contains an appearance of \"xyz\" where the xyz is not directly preceeded by a period (.). So \"xxyz\" counts but \"x.xyz\" does not."
   ]
  },
  {
   "cell_type": "code",
   "execution_count": 60,
   "id": "a7c95a60-d383-445b-bf7b-355056020896",
   "metadata": {},
   "outputs": [],
   "source": [
    "def xyz_there(str):\n",
    "  for i in range(len(str)-2):\n",
    "    if str[i:i+3] == \"xyz\" and str[i-1] != \".\":\n",
    "      return True\n",
    "  \n",
    "  return False"
   ]
  },
  {
   "cell_type": "markdown",
   "id": "5eba50a8-9965-4960-ab17-193313503585",
   "metadata": {},
   "source": [
    "# Logic-1 > cigar_party\n",
    "\n",
    "### When squirrels get together for a party, they like to have cigars. A squirrel party is successful when the number of cigars is between 40 and 60, inclusive. Unless it is the weekend, in which case there is no upper bound on the number of cigars. Return True if the party with the given values is successful, or False otherwise."
   ]
  },
  {
   "cell_type": "code",
   "execution_count": 61,
   "id": "9c7a9d09-7f37-409c-a2e8-04cfcc3669e7",
   "metadata": {},
   "outputs": [],
   "source": [
    "def cigar_party(cigars, is_weekend):\n",
    "  return True if (cigars>=40 and cigars <=60) or (is_weekend and cigars>40) else False\n"
   ]
  },
  {
   "cell_type": "markdown",
   "id": "de734fa1-8a6a-484e-83a6-d14c623437cf",
   "metadata": {},
   "source": [
    "# Logic-1 > date_fashion\n",
    "\n",
    "### You and your date are trying to get a table at a restaurant. The parameter \"you\" is the stylishness of your clothes, in the range 0..10, and \"date\" is the stylishness of your date's clothes. The result getting the table is encoded as an int value with 0=no, 1=maybe, 2=yes. If either of you is very stylish, 8 or more, then the result is 2 (yes). With the exception that if either of you has style of 2 or less, then the result is 0 (no). Otherwise the result is 1 (maybe)."
   ]
  },
  {
   "cell_type": "code",
   "execution_count": 62,
   "id": "ed88eb3c-c98b-4843-8e5f-7dedf0463adb",
   "metadata": {},
   "outputs": [],
   "source": [
    "def date_fashion(you, date):\n",
    "  if (you >=8 or date >= 8) and not (you <3 or date <3):\n",
    "    return 2\n",
    "  elif you <=2 or date<=2:\n",
    "    return 0\n",
    "  else:\n",
    "    return 1"
   ]
  },
  {
   "cell_type": "markdown",
   "id": "97bc2272-0bf6-41b6-8cb5-bb15d88a87e5",
   "metadata": {},
   "source": [
    "# Logic-1 > squirrel_play\n",
    "\n",
    "### The squirrels in Palo Alto spend most of the day playing. In particular, they play if the temperature is between 60 and 90 (inclusive). Unless it is summer, then the upper limit is 100 instead of 90. Given an int temperature and a boolean is_summer, return True if the squirrels play and False otherwise."
   ]
  },
  {
   "cell_type": "code",
   "execution_count": 63,
   "id": "fb06cf0e-1d18-4c1c-911a-b8655cf6ffe4",
   "metadata": {},
   "outputs": [],
   "source": [
    "def squirrel_play(temp, is_summer):\n",
    "  return True if (temp >= 60 and temp<=90) or (is_summer and (temp >= 60 and temp<=100)) else False\n"
   ]
  },
  {
   "cell_type": "markdown",
   "id": "672665f7-ca09-4bff-890d-d07af2403ce4",
   "metadata": {},
   "source": [
    "# Logic-1 > caught_speeding\n",
    "\n",
    "### You are driving a little too fast, and a police officer stops you. Write code to compute the result, encoded as an int value: 0=no ticket, 1=small ticket, 2=big ticket. If speed is 60 or less, the result is 0. If speed is between 61 and 80 inclusive, the result is 1. If speed is 81 or more, the result is 2. Unless it is your birthday -- on that day, your speed can be 5 higher in all cases.\n",
    "\n"
   ]
  },
  {
   "cell_type": "code",
   "execution_count": 64,
   "id": "9808e08e-b7ff-4136-ad10-28fc988d8885",
   "metadata": {},
   "outputs": [],
   "source": [
    "def caught_speeding(speed, is_birthday):\n",
    "  if (is_birthday and speed <= 65) or speed<=60:\n",
    "    return 0\n",
    "  elif (is_birthday and speed >65 and speed<=85)  or (speed >60 and speed<=80):\n",
    "    return 1\n",
    "  else:\n",
    "    return 2"
   ]
  },
  {
   "cell_type": "markdown",
   "id": "f86310b4-ba09-43cb-904b-dff0d1289bdd",
   "metadata": {},
   "source": [
    "# Logic-1 > sorta_sum\n",
    "\n",
    "### Given 2 ints, a and b, return their sum. However, sums in the range 10..19 inclusive, are forbidden, so in that case just return 20.\n",
    "\n"
   ]
  },
  {
   "cell_type": "code",
   "execution_count": 65,
   "id": "1b3865ea-7fe9-41c5-b78f-29e1544d0187",
   "metadata": {},
   "outputs": [],
   "source": [
    "def sorta_sum(a, b):\n",
    "  return 20 if a+b >=10 and a+b <=19 else a+b"
   ]
  },
  {
   "cell_type": "markdown",
   "id": "c7121e01-8cf9-4332-a3fb-349aa6759630",
   "metadata": {},
   "source": [
    "# Logic-1 > alarm_clock\n",
    "\n",
    "### Given a day of the week encoded as 0=Sun, 1=Mon, 2=Tue, ...6=Sat, and a boolean indicating if we are on vacation, return a string of the form \"7:00\" indicating when the alarm clock should ring. Weekdays, the alarm should be \"7:00\" and on the weekend it should be \"10:00\". Unless we are on vacation -- then on weekdays it should be \"10:00\" and weekends it should be \"off\"."
   ]
  },
  {
   "cell_type": "code",
   "execution_count": 66,
   "id": "b0ab087d-fe24-4cab-8c61-bc991f957565",
   "metadata": {},
   "outputs": [],
   "source": [
    "def alarm_clock(day, vacation):\n",
    "  if (day>0 and day<6) and not vacation:\n",
    "    return '7:00'\n",
    "  elif (day==0 or day==6) and vacation:\n",
    "    return 'off'\n",
    "  else:\n",
    "    return '10:00'"
   ]
  },
  {
   "cell_type": "markdown",
   "id": "8db03b9e-3876-448e-a98b-034ae48e608d",
   "metadata": {},
   "source": [
    "# Logic-1 > love6\n",
    "\n",
    "### The number 6 is a truly great number. Given two int values, a and b, return True if either one is 6. Or if their sum or difference is 6. Note: the function abs(num) computes the absolute value of a number."
   ]
  },
  {
   "cell_type": "code",
   "execution_count": 67,
   "id": "ae2ddceb-1bf8-4e26-a75e-b4022cc17871",
   "metadata": {},
   "outputs": [],
   "source": [
    "def love6(a, b):\n",
    "  return True if (a==6 or b==6) or (abs(a-b)==6 or (a+b)==6) else False"
   ]
  },
  {
   "cell_type": "markdown",
   "id": "690b8725-34d9-4008-bcb2-1b1ae31e08fe",
   "metadata": {},
   "source": [
    "# Logic-1 > in1to10\n",
    "\n",
    "### Given a number n, return True if n is in the range 1..10, inclusive. Unless outside_mode is True, in which case return True if the number is less or equal to 1, or greater or equal to 10."
   ]
  },
  {
   "cell_type": "code",
   "execution_count": 68,
   "id": "0bc08088-52a8-4a19-a526-8da385c6394b",
   "metadata": {},
   "outputs": [],
   "source": [
    "def in1to10(n, outside_mode):\n",
    "  return True if(n>0 and n<11 and not outside_mode) or (outside_mode and (n<=1 or n>=10)) else False\n"
   ]
  },
  {
   "cell_type": "markdown",
   "id": "0c966c82-c00a-4768-8c8d-7b0c899c0373",
   "metadata": {},
   "source": [
    "# Logic-1 > near_ten\n",
    "\n",
    "### Given a non-negative number \"num\", return True if num is within 2 of a multiple of 10. Note: (a % b) is the remainder of dividing a by b, so (7 % 5) is 2. See also: Introduction to Mod"
   ]
  },
  {
   "cell_type": "code",
   "execution_count": 69,
   "id": "69cd60fe-4442-4196-a508-632492e3f456",
   "metadata": {},
   "outputs": [],
   "source": [
    "def near_ten(num):\n",
    "  return num % 10 <= 2 or num % 10 >= 8"
   ]
  },
  {
   "cell_type": "markdown",
   "id": "7fa9e900-f55e-4a83-90ca-62d07baca489",
   "metadata": {},
   "source": [
    "# Logic-2 > make_bricks\n",
    "\n",
    "### We want to make a row of bricks that is goal inches long. We have a number of small bricks (1 inch each) and big bricks (5 inches each). Return True if it is possible to make the goal by choosing from the given bricks. This is a little harder than it looks and can be done without any loops. "
   ]
  },
  {
   "cell_type": "code",
   "execution_count": 70,
   "id": "a086b575-f76e-449c-8417-ba6bfff593d3",
   "metadata": {},
   "outputs": [],
   "source": [
    "def make_bricks(small, big, goal):\n",
    "  used_big = min(big, goal // 5)\n",
    "  remaining_goal = goal - (used_big * 5)\n",
    "  return remaining_goal <= small"
   ]
  },
  {
   "cell_type": "markdown",
   "id": "17abb999-c45b-40fa-aab9-dcaad60ac783",
   "metadata": {},
   "source": [
    "# Logic-2 > lone_sum\n",
    "\n",
    "### Given 3 int values, a b c, return their sum. However, if one of the values is the same as another of the values, it does not count towards the sum."
   ]
  },
  {
   "cell_type": "code",
   "execution_count": 73,
   "id": "2b179a52-40a1-4e00-8a94-75a8af326cf2",
   "metadata": {},
   "outputs": [],
   "source": [
    "def lone_sum(a, b, c):\n",
    "  return (a if a != b and a != c else 0) + (b if b != a and b != c else 0) + (c if c != a and c != b else 0)\n",
    "\n",
    "# or\n",
    "\n",
    "def lone_sum(a, b, c):\n",
    "  return (a if a != b and a != c else 0) + \\\n",
    "         (b if b != a and b != c else 0) + \\\n",
    "         (c if c != a and c != b else 0)"
   ]
  },
  {
   "cell_type": "markdown",
   "id": "0bb42fb1-1fa0-4662-aec6-9eca5aea48bc",
   "metadata": {},
   "source": [
    "# Logic-2 > lucky_sum\n",
    "\n",
    "### Given 3 int values, a b c, return their sum. However, if one of the values is 13 then it does not count towards the sum and values to its right do not count. So for example, if b is 13, then both b and c do not count.\n",
    "\n"
   ]
  },
  {
   "cell_type": "code",
   "execution_count": 74,
   "id": "17563c56-c624-4350-840c-479eea23b551",
   "metadata": {},
   "outputs": [],
   "source": [
    "def lucky_sum(a, b, c):\n",
    "  return (a if a != 13 else 0) + (b if b!=13 and a!=13 else 0) + (c if c!=13 and b!=13 and a != 13 else 0)\n"
   ]
  },
  {
   "cell_type": "markdown",
   "id": "d8e96aa3-7e38-474b-96e5-f527456f54bd",
   "metadata": {},
   "source": [
    "# Logic-2 > no_teen_sum\n",
    "\n",
    "### Given 3 int values, a b c, return their sum. However, if any of the values is a teen -- in the range 13..19 inclusive -- then that value counts as 0, except 15 and 16 do not count as a teens. Write a separate helper \"def fix_teen(n):\"that takes in an int value and returns that value fixed for the teen rule. In this way, you avoid repeating the teen code 3 times (i.e. \"decomposition\"). Define the helper below and at the same indent level as the main no_teen_sum().\n",
    "\n"
   ]
  },
  {
   "cell_type": "code",
   "execution_count": 75,
   "id": "e394d7c2-bcd4-468a-b2e4-0c1252291de0",
   "metadata": {},
   "outputs": [],
   "source": [
    "def fix_teens(n):\n",
    "  return True if (n>=13 and n<=19) and not (n == 15 or n==16) else False\n",
    "\n",
    "def no_teen_sum(a, b, c):\n",
    "  return (a if not fix_teens(a) else 0) + (b if not fix_teens(b) else 0) +(c if not fix_teens(c) else 0)\n",
    "  \n"
   ]
  },
  {
   "cell_type": "markdown",
   "id": "60e70aee-00c1-4fb5-ae1c-0d88fe7a6cab",
   "metadata": {},
   "source": [
    "# Logic-2 > round_sum\n",
    "\n",
    "### For this problem, we'll round an int value up to the next multiple of 10 if its rightmost digit is 5 or more, so 15 rounds up to 20. Alternately, round down to the previous multiple of 10 if its rightmost digit is less than 5, so 12 rounds down to 10. Given 3 ints, a b c, return the sum of their rounded values. To avoid code repetition, write a separate helper \"def round10(num):\" and call it 3 times. Write the helper entirely below and at the same indent level as round_sum()."
   ]
  },
  {
   "cell_type": "code",
   "execution_count": 76,
   "id": "8b708501-e364-4a0c-8dc0-470b7776f90e",
   "metadata": {},
   "outputs": [],
   "source": [
    "def round10(num):\n",
    "  mod = num%10\n",
    "  if mod < 5:\n",
    "    return num-mod\n",
    "  else:\n",
    "    return num+(10-mod)\n",
    "  \n",
    "def round_sum(a, b, c):\n",
    "  return round10(a)+round10(b)+round10(c)\n",
    "  \n"
   ]
  },
  {
   "cell_type": "markdown",
   "id": "9618a54d-8608-434a-9f75-5257062fefb6",
   "metadata": {},
   "source": [
    "# Logic-2 > close_far\n",
    "\n",
    "### Given three ints, a b c, return True if one of b or c is \"close\" (differing from a by at most 1), while the other is \"far\", differing from both other values by 2 or more. Note: abs(num) computes the absolute value of a number.\n",
    "\n"
   ]
  },
  {
   "cell_type": "code",
   "execution_count": 77,
   "id": "4a6cff60-b08b-4d40-8721-59a4dc6cca9b",
   "metadata": {},
   "outputs": [],
   "source": [
    "def close_far(a, b, c):\n",
    "  return True if (abs(a-b)<=1 and abs(a-c)>1 and abs(b-c)>1) or (abs(a-b)>1 and abs(a-c)<=1 and abs(b-c)>1) else False\n"
   ]
  },
  {
   "cell_type": "code",
   "execution_count": 78,
   "id": "6a2b7b0d-535f-491b-b45c-47d6b4f71f59",
   "metadata": {},
   "outputs": [],
   "source": [
    "def make_chocolate(small, big, goal):\n",
    "  using_big_bars = min(big,goal//5)\n",
    "  needed_small_bars = goal - using_big_bars*5\n",
    "  return needed_small_bars if small>= needed_small_bars else -1"
   ]
  },
  {
   "cell_type": "code",
   "execution_count": null,
   "id": "43b3ead7-d599-471b-9414-045c0e48ea1f",
   "metadata": {},
   "outputs": [],
   "source": []
  }
 ],
 "metadata": {
  "kernelspec": {
   "display_name": "Python 3 (ipykernel)",
   "language": "python",
   "name": "python3"
  },
  "language_info": {
   "codemirror_mode": {
    "name": "ipython",
    "version": 3
   },
   "file_extension": ".py",
   "mimetype": "text/x-python",
   "name": "python",
   "nbconvert_exporter": "python",
   "pygments_lexer": "ipython3",
   "version": "3.12.0"
  }
 },
 "nbformat": 4,
 "nbformat_minor": 5
}
